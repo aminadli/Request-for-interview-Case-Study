{
  "nbformat": 4,
  "nbformat_minor": 0,
  "metadata": {
    "colab": {
      "provenance": [],
      "authorship_tag": "ABX9TyMreCUMAEYe+oG25aeA6jYB",
      "include_colab_link": true
    },
    "kernelspec": {
      "name": "python3",
      "display_name": "Python 3"
    },
    "language_info": {
      "name": "python"
    }
  },
  "cells": [
    {
      "cell_type": "markdown",
      "metadata": {
        "id": "view-in-github",
        "colab_type": "text"
      },
      "source": [
        "<a href=\"https://colab.research.google.com/github/aminadli/Request-for-interview-Case-Study/blob/main/Request_For_Interview_Case_Study.ipynb\" target=\"_parent\"><img src=\"https://colab.research.google.com/assets/colab-badge.svg\" alt=\"Open In Colab\"/></a>"
      ]
    },
    {
      "cell_type": "markdown",
      "source": [
        "1. What is the median age of subjects in the sample size above?\n",
        "\n",
        "2. What is the average salary difference of a person with only a diploma vs one with a Master's degree?\n",
        "\n",
        "3. Does age affect the salary of someone with a diploma? Please justify in mathematical terms.\n",
        "\n",
        "4. How much do you think a diploma holder will be earning at the age of 40? Please share your hypothesis & the calculations that lead to that outcome.\n",
        "\n",
        "5. What kind of phone do you think someone who earns RM 5,000 & above per month will possess? Kindly advise on your assumptions, and the calculations you considered.\n",
        "\n",
        "6. What is the most preferred way of requesting an interview for someone who spends more than RM 2,000 for their phone?\n",
        "\n",
        "7. If we wanted to introduce the concept of employability (likelihood of someone being hired) in the mix, what kind of additional data would you factor into your calculations?\n",
        "\n",
        "8. What is your experience in running an experiment? Can you describe what you were trying to achieve from your experiment, and how one can usefully apply the data you obtained. from your project for future experiments?\n",
        "\n",
        "9. What is your favourite website or app? If someone asked you to describe how much better your preferred website or app is against the others, how would you go about doing this?\n",
        "\n",
        "10. If you are required to build a decision tree data mining algorithm to predict a winning candidate based on a given job, kindly describe how you your approach would be like."
      ],
      "metadata": {
        "id": "5PewJf2_eqcj"
      }
    },
    {
      "cell_type": "code",
      "source": [
        "import numpy as np\n",
        "import pandas as pd"
      ],
      "metadata": {
        "id": "iCEYdsMWgsLg"
      },
      "execution_count": 1,
      "outputs": []
    },
    {
      "cell_type": "code",
      "source": [
        "import matplotlib.pyplot as plt\n",
        "import seaborn as sns\n",
        "import plotly.express as px"
      ],
      "metadata": {
        "id": "QThNgLylV5bF"
      },
      "execution_count": 2,
      "outputs": []
    },
    {
      "cell_type": "code",
      "source": [
        "df = pd.read_csv(\"https://raw.githubusercontent.com/aminadli/Request-for-interview-Case-Study/main/Request%20For%20Interview%20Case%20Study%20(%2B%20phone%20price)%20-%20Request%20For%20Interview%20Case%20Study%20(%2B%20phone%20price).csv.csv\")"
      ],
      "metadata": {
        "id": "hrABE4LqeMwi"
      },
      "execution_count": 61,
      "outputs": []
    },
    {
      "cell_type": "code",
      "source": [
        "print(df)"
      ],
      "metadata": {
        "id": "dXIr2TnUhXL-",
        "outputId": "3770af45-13c9-4ebc-9784-0fc43c1725ee",
        "colab": {
          "base_uri": "https://localhost:8080/"
        }
      },
      "execution_count": 62,
      "outputs": [
        {
          "output_type": "stream",
          "name": "stdout",
          "text": [
            "        Name  Age Gender Annual Income   Education        Phone Owned  \\\n",
            "0        Ali   22      M    $15,000.00  Highschool  Samsung Galaxy S3   \n",
            "1       Mutu   25      M    $30,000.00     Diploma       HTC One Note   \n",
            "2        Lim   33      M    $36,000.00     Diploma           iPhone 5   \n",
            "3      Angie   47      F    $45,000.00     Diploma          iPhone 6s   \n",
            "4       Jack   26      M    $25,000.00      Degree        Xiaomi MI 3   \n",
            "5    Mambutu   35      M    $18,000.00     Primary   Hua Wei Honour 6   \n",
            "6     Pierre   54      M   $120,000.00      Degree          Nokia E63   \n",
            "7    Valerie   32      F    $80,000.00     Masters         iPhone 3Gs   \n",
            "8      Farah   19      F    $12,000.00     Primary       HTC Mozart 7   \n",
            "9   Muhammad   22      M    $16,000.00     Primary         HTC One E8   \n",
            "10    Regina   22      F    $15,000.00  Highschool          iPhone 6+   \n",
            "11    Trevor   25      M    $30,000.00     Diploma          OnePlus 2   \n",
            "12   Melinda   39      F    $33,000.00     Diploma  Samsung Galaxy A8   \n",
            "13    Aishah   45      F    $42,000.00     Diploma  Lenovo VI BE Shot   \n",
            "14  Abdullah   26      M    $25,000.00      Degree          iPhone 5s   \n",
            "15     Rizal   35      M    $18,000.00     Primary        Xiaomi MI 3   \n",
            "16      Wong   51      M   $110,000.00      Degree         iPhone 6s+   \n",
            "17      Jill   29      F    $75,000.00     Masters          iPhone 6s   \n",
            "18     Polly   21      F    $12,200.00     Primary  Xiaomi Pad Tablet   \n",
            "19     Wanda   23      F    $17,000.00     Primary        Xiaomi MI 4   \n",
            "\n",
            "   Phone Price Email  Web Mobile Walk-In Video Call Phone Call Letter  \n",
            "0        2,199     x    x      x       x        NaN        NaN    NaN  \n",
            "1         2299     x    x      x     NaN        NaN        NaN    NaN  \n",
            "2         2199     x    x      x     NaN          x        NaN    NaN  \n",
            "3         3199     x  NaN    NaN       x          x          x      x  \n",
            "4          889     x    x      x     NaN        NaN        NaN    NaN  \n",
            "5          999     x    x      x       x          x          x    NaN  \n",
            "6            0     x  NaN    NaN     NaN        NaN          x      x  \n",
            "7         2490     x    x      x     NaN          x        NaN    NaN  \n",
            "8          950   NaN  NaN      x       x        NaN          x    NaN  \n",
            "9         1699     x    x      x     NaN        NaN        NaN    NaN  \n",
            "10        2749     x    x      x     NaN          x        NaN    NaN  \n",
            "11        1413     x  NaN      x     NaN        NaN        NaN    NaN  \n",
            "12        1559     x  NaN    NaN     NaN        NaN        NaN    NaN  \n",
            "13        1399     x  NaN    NaN     NaN        NaN        NaN    NaN  \n",
            "14        2349     x    x      x     NaN          x        NaN    NaN  \n",
            "15         889     x    x      x     NaN        NaN        NaN    NaN  \n",
            "16        3699     x  NaN    NaN     NaN          x          x      x  \n",
            "17        3199     x    x    NaN     NaN          x        NaN    NaN  \n",
            "18         879     x    x      x       x        NaN        NaN    NaN  \n",
            "19        1199     x    x      x     NaN        NaN        NaN    NaN  \n"
          ]
        }
      ]
    },
    {
      "cell_type": "code",
      "source": [
        "df.info()"
      ],
      "metadata": {
        "id": "SPE3bdoiiT3F",
        "outputId": "eb8dbe8f-28ce-41b2-d7ed-d63ce0f7ad9a",
        "colab": {
          "base_uri": "https://localhost:8080/"
        }
      },
      "execution_count": 5,
      "outputs": [
        {
          "output_type": "stream",
          "name": "stdout",
          "text": [
            "<class 'pandas.core.frame.DataFrame'>\n",
            "RangeIndex: 20 entries, 0 to 19\n",
            "Data columns (total 14 columns):\n",
            " #   Column         Non-Null Count  Dtype \n",
            "---  ------         --------------  ----- \n",
            " 0   Name           20 non-null     object\n",
            " 1   Age            20 non-null     int64 \n",
            " 2   Gender         20 non-null     object\n",
            " 3   Annual Income  20 non-null     object\n",
            " 4   Education      20 non-null     object\n",
            " 5   Phone Owned    20 non-null     object\n",
            " 6   Phone Price    19 non-null     object\n",
            " 7   Email          19 non-null     object\n",
            " 8   Web            13 non-null     object\n",
            " 9   Mobile         14 non-null     object\n",
            " 10  Walk-In        5 non-null      object\n",
            " 11  Video Call     8 non-null      object\n",
            " 12  Phone Call     5 non-null      object\n",
            " 13  Letter         3 non-null      object\n",
            "dtypes: int64(1), object(13)\n",
            "memory usage: 2.3+ KB\n"
          ]
        }
      ]
    },
    {
      "cell_type": "markdown",
      "source": [
        "1. What is the median age of subjects in the sample size above?"
      ],
      "metadata": {
        "id": "kG1NZXXPiilR"
      }
    },
    {
      "cell_type": "code",
      "source": [
        "# Extract ages as a Series\n",
        "ages = df['Age']"
      ],
      "metadata": {
        "id": "u2R6hm4RijsZ"
      },
      "execution_count": 6,
      "outputs": []
    },
    {
      "cell_type": "code",
      "source": [
        "# Calculate the median age using pandas\n",
        "median_age = ages.median()"
      ],
      "metadata": {
        "id": "-woHS7U-k6xe"
      },
      "execution_count": 7,
      "outputs": []
    },
    {
      "cell_type": "code",
      "source": [
        "print(f\"The median age is: {median_age}\")"
      ],
      "metadata": {
        "id": "6ZROWrN0ldle",
        "outputId": "059dc9fe-9eca-4cdb-8775-aa8ea70c8fb7",
        "colab": {
          "base_uri": "https://localhost:8080/"
        }
      },
      "execution_count": 8,
      "outputs": [
        {
          "output_type": "stream",
          "name": "stdout",
          "text": [
            "The median age is: 27.5\n"
          ]
        }
      ]
    },
    {
      "cell_type": "markdown",
      "source": [
        "2. What is the average salary difference of a person with only a diploma vs one with a Master's degree?"
      ],
      "metadata": {
        "id": "suqVaK_emEMU"
      }
    },
    {
      "cell_type": "code",
      "source": [
        "print(df.columns)\n"
      ],
      "metadata": {
        "id": "j9_Aub-pqzqJ",
        "outputId": "1405b536-737f-4fc1-f738-2de308db0ab8",
        "colab": {
          "base_uri": "https://localhost:8080/"
        }
      },
      "execution_count": 9,
      "outputs": [
        {
          "output_type": "stream",
          "name": "stdout",
          "text": [
            "Index(['Name', 'Age', 'Gender', 'Annual Income', 'Education', 'Phone Owned',\n",
            "       'Phone Price', 'Email', 'Web', 'Mobile', 'Walk-In', 'Video Call',\n",
            "       'Phone Call', 'Letter'],\n",
            "      dtype='object')\n"
          ]
        }
      ]
    },
    {
      "cell_type": "code",
      "source": [
        "# Remove dollar signs and convert income into numerics for calculations\n",
        "df['Income'] = df['Annual Income'].str.replace('[\\$,]', '', regex=True).astype(float)"
      ],
      "metadata": {
        "id": "c92-yD_cqaWf"
      },
      "execution_count": 10,
      "outputs": []
    },
    {
      "cell_type": "code",
      "source": [
        "# Group DataFrame by education and calculate average income\n",
        "average_income_by_education = df.groupby('Education')['Income'].mean()"
      ],
      "metadata": {
        "id": "bBHOsbJur0d4"
      },
      "execution_count": 11,
      "outputs": []
    },
    {
      "cell_type": "code",
      "source": [
        "average_income_by_education['Diploma']"
      ],
      "metadata": {
        "id": "zCcP9PEfQdk5",
        "outputId": "d7177ec2-86f6-4065-9e0f-5e2180fcc776",
        "colab": {
          "base_uri": "https://localhost:8080/"
        }
      },
      "execution_count": 15,
      "outputs": [
        {
          "output_type": "execute_result",
          "data": {
            "text/plain": [
              "36000.0"
            ]
          },
          "metadata": {},
          "execution_count": 15
        }
      ]
    },
    {
      "cell_type": "code",
      "source": [
        "average_income_by_education['Masters']"
      ],
      "metadata": {
        "id": "zrVcNIEMQhPZ",
        "outputId": "289c5b6a-ded4-4f98-d6d5-a2362c5f63e2",
        "colab": {
          "base_uri": "https://localhost:8080/"
        }
      },
      "execution_count": 16,
      "outputs": [
        {
          "output_type": "execute_result",
          "data": {
            "text/plain": [
              "77500.0"
            ]
          },
          "metadata": {},
          "execution_count": 16
        }
      ]
    },
    {
      "cell_type": "code",
      "source": [
        "# Calculate the difference\n",
        "difference = average_income_by_education['Masters'] - average_income_by_education['Diploma']"
      ],
      "metadata": {
        "id": "t_ateQpLr342"
      },
      "execution_count": 17,
      "outputs": []
    },
    {
      "cell_type": "code",
      "source": [
        "print(f\"The average salary difference between diploma and highschool is: ${difference:.2f}\")"
      ],
      "metadata": {
        "id": "iuh0_NjQsHWG",
        "outputId": "c1313ec0-438f-4df5-9e8c-0e970c57df1f",
        "colab": {
          "base_uri": "https://localhost:8080/"
        }
      },
      "execution_count": 18,
      "outputs": [
        {
          "output_type": "stream",
          "name": "stdout",
          "text": [
            "The average salary difference between diploma and highschool is: $41500.00\n"
          ]
        }
      ]
    },
    {
      "cell_type": "markdown",
      "source": [
        "3. Does age affect the salary of someone with a diploma? Please justify in mathematical terms."
      ],
      "metadata": {
        "id": "aXBEKJ3msWgc"
      }
    },
    {
      "cell_type": "code",
      "source": [
        "# Filter for diploma holders only\n",
        "diploma_df = df[df['Education'] == 'Diploma']\n"
      ],
      "metadata": {
        "id": "5U4EFOAqsbov"
      },
      "execution_count": 20,
      "outputs": []
    },
    {
      "cell_type": "code",
      "source": [
        "diploma_df.head()"
      ],
      "metadata": {
        "id": "_nckF6ANRAt4",
        "outputId": "e8a796ce-8f14-49e4-f2d9-940288618bd2",
        "colab": {
          "base_uri": "https://localhost:8080/",
          "height": 206
        }
      },
      "execution_count": 21,
      "outputs": [
        {
          "output_type": "execute_result",
          "data": {
            "text/plain": [
              "       Name  Age Gender Annual Income Education        Phone Owned  \\\n",
              "1      Mutu   25      M    $30,000.00   Diploma       HTC One Note   \n",
              "2       Lim   33      M    $36,000.00   Diploma           iPhone 5   \n",
              "3     Angie   47      F    $45,000.00   Diploma          iPhone 6s   \n",
              "11   Trevor   25      M    $30,000.00   Diploma          OnePlus 2   \n",
              "12  Melinda   39      F    $33,000.00   Diploma  Samsung Galaxy A8   \n",
              "\n",
              "   Phone Price Email  Web Mobile Walk-In Video Call Phone Call Letter   Income  \n",
              "1         2299     x    x      x     NaN        NaN        NaN    NaN  30000.0  \n",
              "2         2199     x    x      x     NaN          x        NaN    NaN  36000.0  \n",
              "3         3199     x  NaN    NaN       x          x          x      x  45000.0  \n",
              "11        1413     x  NaN      x     NaN        NaN        NaN    NaN  30000.0  \n",
              "12        1559     x  NaN    NaN     NaN        NaN        NaN    NaN  33000.0  "
            ],
            "text/html": [
              "\n",
              "  <div id=\"df-350cbd8b-eda3-4289-b76e-102a66cead36\" class=\"colab-df-container\">\n",
              "    <div>\n",
              "<style scoped>\n",
              "    .dataframe tbody tr th:only-of-type {\n",
              "        vertical-align: middle;\n",
              "    }\n",
              "\n",
              "    .dataframe tbody tr th {\n",
              "        vertical-align: top;\n",
              "    }\n",
              "\n",
              "    .dataframe thead th {\n",
              "        text-align: right;\n",
              "    }\n",
              "</style>\n",
              "<table border=\"1\" class=\"dataframe\">\n",
              "  <thead>\n",
              "    <tr style=\"text-align: right;\">\n",
              "      <th></th>\n",
              "      <th>Name</th>\n",
              "      <th>Age</th>\n",
              "      <th>Gender</th>\n",
              "      <th>Annual Income</th>\n",
              "      <th>Education</th>\n",
              "      <th>Phone Owned</th>\n",
              "      <th>Phone Price</th>\n",
              "      <th>Email</th>\n",
              "      <th>Web</th>\n",
              "      <th>Mobile</th>\n",
              "      <th>Walk-In</th>\n",
              "      <th>Video Call</th>\n",
              "      <th>Phone Call</th>\n",
              "      <th>Letter</th>\n",
              "      <th>Income</th>\n",
              "    </tr>\n",
              "  </thead>\n",
              "  <tbody>\n",
              "    <tr>\n",
              "      <th>1</th>\n",
              "      <td>Mutu</td>\n",
              "      <td>25</td>\n",
              "      <td>M</td>\n",
              "      <td>$30,000.00</td>\n",
              "      <td>Diploma</td>\n",
              "      <td>HTC One Note</td>\n",
              "      <td>2299</td>\n",
              "      <td>x</td>\n",
              "      <td>x</td>\n",
              "      <td>x</td>\n",
              "      <td>NaN</td>\n",
              "      <td>NaN</td>\n",
              "      <td>NaN</td>\n",
              "      <td>NaN</td>\n",
              "      <td>30000.0</td>\n",
              "    </tr>\n",
              "    <tr>\n",
              "      <th>2</th>\n",
              "      <td>Lim</td>\n",
              "      <td>33</td>\n",
              "      <td>M</td>\n",
              "      <td>$36,000.00</td>\n",
              "      <td>Diploma</td>\n",
              "      <td>iPhone 5</td>\n",
              "      <td>2199</td>\n",
              "      <td>x</td>\n",
              "      <td>x</td>\n",
              "      <td>x</td>\n",
              "      <td>NaN</td>\n",
              "      <td>x</td>\n",
              "      <td>NaN</td>\n",
              "      <td>NaN</td>\n",
              "      <td>36000.0</td>\n",
              "    </tr>\n",
              "    <tr>\n",
              "      <th>3</th>\n",
              "      <td>Angie</td>\n",
              "      <td>47</td>\n",
              "      <td>F</td>\n",
              "      <td>$45,000.00</td>\n",
              "      <td>Diploma</td>\n",
              "      <td>iPhone 6s</td>\n",
              "      <td>3199</td>\n",
              "      <td>x</td>\n",
              "      <td>NaN</td>\n",
              "      <td>NaN</td>\n",
              "      <td>x</td>\n",
              "      <td>x</td>\n",
              "      <td>x</td>\n",
              "      <td>x</td>\n",
              "      <td>45000.0</td>\n",
              "    </tr>\n",
              "    <tr>\n",
              "      <th>11</th>\n",
              "      <td>Trevor</td>\n",
              "      <td>25</td>\n",
              "      <td>M</td>\n",
              "      <td>$30,000.00</td>\n",
              "      <td>Diploma</td>\n",
              "      <td>OnePlus 2</td>\n",
              "      <td>1413</td>\n",
              "      <td>x</td>\n",
              "      <td>NaN</td>\n",
              "      <td>x</td>\n",
              "      <td>NaN</td>\n",
              "      <td>NaN</td>\n",
              "      <td>NaN</td>\n",
              "      <td>NaN</td>\n",
              "      <td>30000.0</td>\n",
              "    </tr>\n",
              "    <tr>\n",
              "      <th>12</th>\n",
              "      <td>Melinda</td>\n",
              "      <td>39</td>\n",
              "      <td>F</td>\n",
              "      <td>$33,000.00</td>\n",
              "      <td>Diploma</td>\n",
              "      <td>Samsung Galaxy A8</td>\n",
              "      <td>1559</td>\n",
              "      <td>x</td>\n",
              "      <td>NaN</td>\n",
              "      <td>NaN</td>\n",
              "      <td>NaN</td>\n",
              "      <td>NaN</td>\n",
              "      <td>NaN</td>\n",
              "      <td>NaN</td>\n",
              "      <td>33000.0</td>\n",
              "    </tr>\n",
              "  </tbody>\n",
              "</table>\n",
              "</div>\n",
              "    <div class=\"colab-df-buttons\">\n",
              "\n",
              "  <div class=\"colab-df-container\">\n",
              "    <button class=\"colab-df-convert\" onclick=\"convertToInteractive('df-350cbd8b-eda3-4289-b76e-102a66cead36')\"\n",
              "            title=\"Convert this dataframe to an interactive table.\"\n",
              "            style=\"display:none;\">\n",
              "\n",
              "  <svg xmlns=\"http://www.w3.org/2000/svg\" height=\"24px\" viewBox=\"0 -960 960 960\">\n",
              "    <path d=\"M120-120v-720h720v720H120Zm60-500h600v-160H180v160Zm220 220h160v-160H400v160Zm0 220h160v-160H400v160ZM180-400h160v-160H180v160Zm440 0h160v-160H620v160ZM180-180h160v-160H180v160Zm440 0h160v-160H620v160Z\"/>\n",
              "  </svg>\n",
              "    </button>\n",
              "\n",
              "  <style>\n",
              "    .colab-df-container {\n",
              "      display:flex;\n",
              "      gap: 12px;\n",
              "    }\n",
              "\n",
              "    .colab-df-convert {\n",
              "      background-color: #E8F0FE;\n",
              "      border: none;\n",
              "      border-radius: 50%;\n",
              "      cursor: pointer;\n",
              "      display: none;\n",
              "      fill: #1967D2;\n",
              "      height: 32px;\n",
              "      padding: 0 0 0 0;\n",
              "      width: 32px;\n",
              "    }\n",
              "\n",
              "    .colab-df-convert:hover {\n",
              "      background-color: #E2EBFA;\n",
              "      box-shadow: 0px 1px 2px rgba(60, 64, 67, 0.3), 0px 1px 3px 1px rgba(60, 64, 67, 0.15);\n",
              "      fill: #174EA6;\n",
              "    }\n",
              "\n",
              "    .colab-df-buttons div {\n",
              "      margin-bottom: 4px;\n",
              "    }\n",
              "\n",
              "    [theme=dark] .colab-df-convert {\n",
              "      background-color: #3B4455;\n",
              "      fill: #D2E3FC;\n",
              "    }\n",
              "\n",
              "    [theme=dark] .colab-df-convert:hover {\n",
              "      background-color: #434B5C;\n",
              "      box-shadow: 0px 1px 3px 1px rgba(0, 0, 0, 0.15);\n",
              "      filter: drop-shadow(0px 1px 2px rgba(0, 0, 0, 0.3));\n",
              "      fill: #FFFFFF;\n",
              "    }\n",
              "  </style>\n",
              "\n",
              "    <script>\n",
              "      const buttonEl =\n",
              "        document.querySelector('#df-350cbd8b-eda3-4289-b76e-102a66cead36 button.colab-df-convert');\n",
              "      buttonEl.style.display =\n",
              "        google.colab.kernel.accessAllowed ? 'block' : 'none';\n",
              "\n",
              "      async function convertToInteractive(key) {\n",
              "        const element = document.querySelector('#df-350cbd8b-eda3-4289-b76e-102a66cead36');\n",
              "        const dataTable =\n",
              "          await google.colab.kernel.invokeFunction('convertToInteractive',\n",
              "                                                    [key], {});\n",
              "        if (!dataTable) return;\n",
              "\n",
              "        const docLinkHtml = 'Like what you see? Visit the ' +\n",
              "          '<a target=\"_blank\" href=https://colab.research.google.com/notebooks/data_table.ipynb>data table notebook</a>'\n",
              "          + ' to learn more about interactive tables.';\n",
              "        element.innerHTML = '';\n",
              "        dataTable['output_type'] = 'display_data';\n",
              "        await google.colab.output.renderOutput(dataTable, element);\n",
              "        const docLink = document.createElement('div');\n",
              "        docLink.innerHTML = docLinkHtml;\n",
              "        element.appendChild(docLink);\n",
              "      }\n",
              "    </script>\n",
              "  </div>\n",
              "\n",
              "\n",
              "<div id=\"df-f18331c7-c599-4ea2-8b36-df5e84b6f6ff\">\n",
              "  <button class=\"colab-df-quickchart\" onclick=\"quickchart('df-f18331c7-c599-4ea2-8b36-df5e84b6f6ff')\"\n",
              "            title=\"Suggest charts\"\n",
              "            style=\"display:none;\">\n",
              "\n",
              "<svg xmlns=\"http://www.w3.org/2000/svg\" height=\"24px\"viewBox=\"0 0 24 24\"\n",
              "     width=\"24px\">\n",
              "    <g>\n",
              "        <path d=\"M19 3H5c-1.1 0-2 .9-2 2v14c0 1.1.9 2 2 2h14c1.1 0 2-.9 2-2V5c0-1.1-.9-2-2-2zM9 17H7v-7h2v7zm4 0h-2V7h2v10zm4 0h-2v-4h2v4z\"/>\n",
              "    </g>\n",
              "</svg>\n",
              "  </button>\n",
              "\n",
              "<style>\n",
              "  .colab-df-quickchart {\n",
              "      --bg-color: #E8F0FE;\n",
              "      --fill-color: #1967D2;\n",
              "      --hover-bg-color: #E2EBFA;\n",
              "      --hover-fill-color: #174EA6;\n",
              "      --disabled-fill-color: #AAA;\n",
              "      --disabled-bg-color: #DDD;\n",
              "  }\n",
              "\n",
              "  [theme=dark] .colab-df-quickchart {\n",
              "      --bg-color: #3B4455;\n",
              "      --fill-color: #D2E3FC;\n",
              "      --hover-bg-color: #434B5C;\n",
              "      --hover-fill-color: #FFFFFF;\n",
              "      --disabled-bg-color: #3B4455;\n",
              "      --disabled-fill-color: #666;\n",
              "  }\n",
              "\n",
              "  .colab-df-quickchart {\n",
              "    background-color: var(--bg-color);\n",
              "    border: none;\n",
              "    border-radius: 50%;\n",
              "    cursor: pointer;\n",
              "    display: none;\n",
              "    fill: var(--fill-color);\n",
              "    height: 32px;\n",
              "    padding: 0;\n",
              "    width: 32px;\n",
              "  }\n",
              "\n",
              "  .colab-df-quickchart:hover {\n",
              "    background-color: var(--hover-bg-color);\n",
              "    box-shadow: 0 1px 2px rgba(60, 64, 67, 0.3), 0 1px 3px 1px rgba(60, 64, 67, 0.15);\n",
              "    fill: var(--button-hover-fill-color);\n",
              "  }\n",
              "\n",
              "  .colab-df-quickchart-complete:disabled,\n",
              "  .colab-df-quickchart-complete:disabled:hover {\n",
              "    background-color: var(--disabled-bg-color);\n",
              "    fill: var(--disabled-fill-color);\n",
              "    box-shadow: none;\n",
              "  }\n",
              "\n",
              "  .colab-df-spinner {\n",
              "    border: 2px solid var(--fill-color);\n",
              "    border-color: transparent;\n",
              "    border-bottom-color: var(--fill-color);\n",
              "    animation:\n",
              "      spin 1s steps(1) infinite;\n",
              "  }\n",
              "\n",
              "  @keyframes spin {\n",
              "    0% {\n",
              "      border-color: transparent;\n",
              "      border-bottom-color: var(--fill-color);\n",
              "      border-left-color: var(--fill-color);\n",
              "    }\n",
              "    20% {\n",
              "      border-color: transparent;\n",
              "      border-left-color: var(--fill-color);\n",
              "      border-top-color: var(--fill-color);\n",
              "    }\n",
              "    30% {\n",
              "      border-color: transparent;\n",
              "      border-left-color: var(--fill-color);\n",
              "      border-top-color: var(--fill-color);\n",
              "      border-right-color: var(--fill-color);\n",
              "    }\n",
              "    40% {\n",
              "      border-color: transparent;\n",
              "      border-right-color: var(--fill-color);\n",
              "      border-top-color: var(--fill-color);\n",
              "    }\n",
              "    60% {\n",
              "      border-color: transparent;\n",
              "      border-right-color: var(--fill-color);\n",
              "    }\n",
              "    80% {\n",
              "      border-color: transparent;\n",
              "      border-right-color: var(--fill-color);\n",
              "      border-bottom-color: var(--fill-color);\n",
              "    }\n",
              "    90% {\n",
              "      border-color: transparent;\n",
              "      border-bottom-color: var(--fill-color);\n",
              "    }\n",
              "  }\n",
              "</style>\n",
              "\n",
              "  <script>\n",
              "    async function quickchart(key) {\n",
              "      const quickchartButtonEl =\n",
              "        document.querySelector('#' + key + ' button');\n",
              "      quickchartButtonEl.disabled = true;  // To prevent multiple clicks.\n",
              "      quickchartButtonEl.classList.add('colab-df-spinner');\n",
              "      try {\n",
              "        const charts = await google.colab.kernel.invokeFunction(\n",
              "            'suggestCharts', [key], {});\n",
              "      } catch (error) {\n",
              "        console.error('Error during call to suggestCharts:', error);\n",
              "      }\n",
              "      quickchartButtonEl.classList.remove('colab-df-spinner');\n",
              "      quickchartButtonEl.classList.add('colab-df-quickchart-complete');\n",
              "    }\n",
              "    (() => {\n",
              "      let quickchartButtonEl =\n",
              "        document.querySelector('#df-f18331c7-c599-4ea2-8b36-df5e84b6f6ff button');\n",
              "      quickchartButtonEl.style.display =\n",
              "        google.colab.kernel.accessAllowed ? 'block' : 'none';\n",
              "    })();\n",
              "  </script>\n",
              "</div>\n",
              "\n",
              "    </div>\n",
              "  </div>\n"
            ],
            "application/vnd.google.colaboratory.intrinsic+json": {
              "type": "dataframe",
              "variable_name": "diploma_df",
              "summary": "{\n  \"name\": \"diploma_df\",\n  \"rows\": 6,\n  \"fields\": [\n    {\n      \"column\": \"Name\",\n      \"properties\": {\n        \"dtype\": \"string\",\n        \"num_unique_values\": 6,\n        \"samples\": [\n          \"Mutu\",\n          \"Lim\",\n          \"Aishah\"\n        ],\n        \"semantic_type\": \"\",\n        \"description\": \"\"\n      }\n    },\n    {\n      \"column\": \"Age\",\n      \"properties\": {\n        \"dtype\": \"number\",\n        \"std\": 9,\n        \"min\": 25,\n        \"max\": 47,\n        \"num_unique_values\": 5,\n        \"samples\": [\n          33,\n          45,\n          47\n        ],\n        \"semantic_type\": \"\",\n        \"description\": \"\"\n      }\n    },\n    {\n      \"column\": \"Gender\",\n      \"properties\": {\n        \"dtype\": \"category\",\n        \"num_unique_values\": 2,\n        \"samples\": [\n          \"F\",\n          \"M\"\n        ],\n        \"semantic_type\": \"\",\n        \"description\": \"\"\n      }\n    },\n    {\n      \"column\": \"Annual Income\",\n      \"properties\": {\n        \"dtype\": \"string\",\n        \"num_unique_values\": 5,\n        \"samples\": [\n          \"$36,000.00\",\n          \"$42,000.00\"\n        ],\n        \"semantic_type\": \"\",\n        \"description\": \"\"\n      }\n    },\n    {\n      \"column\": \"Education\",\n      \"properties\": {\n        \"dtype\": \"category\",\n        \"num_unique_values\": 1,\n        \"samples\": [\n          \"Diploma\"\n        ],\n        \"semantic_type\": \"\",\n        \"description\": \"\"\n      }\n    },\n    {\n      \"column\": \"Phone Owned\",\n      \"properties\": {\n        \"dtype\": \"string\",\n        \"num_unique_values\": 6,\n        \"samples\": [\n          \"HTC One Note\"\n        ],\n        \"semantic_type\": \"\",\n        \"description\": \"\"\n      }\n    },\n    {\n      \"column\": \"Phone Price\",\n      \"properties\": {\n        \"dtype\": \"string\",\n        \"num_unique_values\": 6,\n        \"samples\": [\n          \"2299\"\n        ],\n        \"semantic_type\": \"\",\n        \"description\": \"\"\n      }\n    },\n    {\n      \"column\": \"Email\",\n      \"properties\": {\n        \"dtype\": \"category\",\n        \"num_unique_values\": 1,\n        \"samples\": [\n          \"x\"\n        ],\n        \"semantic_type\": \"\",\n        \"description\": \"\"\n      }\n    },\n    {\n      \"column\": \"Web\",\n      \"properties\": {\n        \"dtype\": \"category\",\n        \"num_unique_values\": 1,\n        \"samples\": [\n          \"x\"\n        ],\n        \"semantic_type\": \"\",\n        \"description\": \"\"\n      }\n    },\n    {\n      \"column\": \"Mobile\",\n      \"properties\": {\n        \"dtype\": \"category\",\n        \"num_unique_values\": 1,\n        \"samples\": [\n          \"x\"\n        ],\n        \"semantic_type\": \"\",\n        \"description\": \"\"\n      }\n    },\n    {\n      \"column\": \"Walk-In\",\n      \"properties\": {\n        \"dtype\": \"category\",\n        \"num_unique_values\": 1,\n        \"samples\": [\n          \"x\"\n        ],\n        \"semantic_type\": \"\",\n        \"description\": \"\"\n      }\n    },\n    {\n      \"column\": \"Video Call\",\n      \"properties\": {\n        \"dtype\": \"category\",\n        \"num_unique_values\": 1,\n        \"samples\": [\n          \"x\"\n        ],\n        \"semantic_type\": \"\",\n        \"description\": \"\"\n      }\n    },\n    {\n      \"column\": \"Phone Call\",\n      \"properties\": {\n        \"dtype\": \"category\",\n        \"num_unique_values\": 1,\n        \"samples\": [\n          \"x\"\n        ],\n        \"semantic_type\": \"\",\n        \"description\": \"\"\n      }\n    },\n    {\n      \"column\": \"Letter\",\n      \"properties\": {\n        \"dtype\": \"category\",\n        \"num_unique_values\": 1,\n        \"samples\": [\n          \"x\"\n        ],\n        \"semantic_type\": \"\",\n        \"description\": \"\"\n      }\n    },\n    {\n      \"column\": \"Income\",\n      \"properties\": {\n        \"dtype\": \"number\",\n        \"std\": 6292.8530890209095,\n        \"min\": 30000.0,\n        \"max\": 45000.0,\n        \"num_unique_values\": 5,\n        \"samples\": [\n          36000.0\n        ],\n        \"semantic_type\": \"\",\n        \"description\": \"\"\n      }\n    }\n  ]\n}"
            }
          },
          "metadata": {},
          "execution_count": 21
        }
      ]
    },
    {
      "cell_type": "code",
      "source": [
        "print(diploma_df)"
      ],
      "metadata": {
        "id": "yF6sJgB4SMtW",
        "outputId": "95dce9b5-3f2b-4cd6-f7e1-ed36d32a5895",
        "colab": {
          "base_uri": "https://localhost:8080/"
        }
      },
      "execution_count": 24,
      "outputs": [
        {
          "output_type": "stream",
          "name": "stdout",
          "text": [
            "       Name  Age Gender Annual Income Education        Phone Owned  \\\n",
            "1      Mutu   25      M    $30,000.00   Diploma       HTC One Note   \n",
            "2       Lim   33      M    $36,000.00   Diploma           iPhone 5   \n",
            "3     Angie   47      F    $45,000.00   Diploma          iPhone 6s   \n",
            "11   Trevor   25      M    $30,000.00   Diploma          OnePlus 2   \n",
            "12  Melinda   39      F    $33,000.00   Diploma  Samsung Galaxy A8   \n",
            "13   Aishah   45      F    $42,000.00   Diploma  Lenovo VI BE Shot   \n",
            "\n",
            "   Phone Price Email  Web Mobile Walk-In Video Call Phone Call Letter   Income  \n",
            "1         2299     x    x      x     NaN        NaN        NaN    NaN  30000.0  \n",
            "2         2199     x    x      x     NaN          x        NaN    NaN  36000.0  \n",
            "3         3199     x  NaN    NaN       x          x          x      x  45000.0  \n",
            "11        1413     x  NaN      x     NaN        NaN        NaN    NaN  30000.0  \n",
            "12        1559     x  NaN    NaN     NaN        NaN        NaN    NaN  33000.0  \n",
            "13        1399     x  NaN    NaN     NaN        NaN        NaN    NaN  42000.0  \n"
          ]
        }
      ]
    },
    {
      "cell_type": "code",
      "source": [
        "# Check if there's enough data for analysis (at least 2 diploma holders)\n",
        "if len(diploma_df) < 2:\n",
        "  print(\"Insufficient data for analysis. Need at least 2 diploma holders.\")\n",
        "else:\n",
        "  # Correlation coefficient (linear relationship)\n",
        "  correlation = diploma_df['Age'].corr(diploma_df['Income'])\n",
        "\n",
        "  # Print the correlation coefficient\n",
        "  print(f\"Correlation coefficient between age and income (diploma): {correlation:.2f}\")\n",
        "\n",
        "   # Hypothesis (considering limitations)\n",
        "  if correlation > 0:\n",
        "    print(\"A positive correlation close to 1 indicates a positive relationship (higher age, higher income).\")\n",
        "  else:\n",
        "    print(\"A negative correlation close to -1 indicates a negative relationship (higher age, lower income).\")"
      ],
      "metadata": {
        "id": "DPPQSFcb0MJA",
        "outputId": "3880db38-bf8f-4fc3-905e-74f5366cbe15",
        "colab": {
          "base_uri": "https://localhost:8080/"
        }
      },
      "execution_count": 25,
      "outputs": [
        {
          "output_type": "stream",
          "name": "stdout",
          "text": [
            "Correlation coefficient between age and income (diploma): 0.91\n",
            "A positive correlation close to 1 indicates a positive relationship (higher age, higher income).\n"
          ]
        }
      ]
    },
    {
      "cell_type": "code",
      "source": [
        "# Interpretation\n",
        "  # A positive correlation close to 1 indicates a positive relationship (higher age, higher income).\n",
        "  # A negative correlation close to -1 indicates a negative relationship (higher age, lower income)."
      ],
      "metadata": {
        "id": "lfHiLlDp0qSm"
      },
      "execution_count": 24,
      "outputs": []
    },
    {
      "cell_type": "markdown",
      "source": [
        "Since the correlation is 0.84, it is closer to 1 hence age affect salary of someone with a diploma. However Correlation doesn't imply causation. Just because two variables are correlated doesn't necessarily mean that changes in one variable cause changes in the other. There might be a more variable influencing factor causing the observed correlation."
      ],
      "metadata": {
        "id": "cDWq9O5v01aO"
      }
    },
    {
      "cell_type": "markdown",
      "source": [
        "4. How much do you think a diploma holder will be earning at the age of 40? Please share your hypothesis & the calculations that lead to that outcome.\n",
        "\n"
      ],
      "metadata": {
        "id": "KH1RGl-u1St2"
      }
    },
    {
      "cell_type": "code",
      "source": [
        "# 1. Filter diploma holders\n",
        "diploma_df = df[df['Education'] == 'Diploma']"
      ],
      "metadata": {
        "id": "gRzveFNEYzvK"
      },
      "execution_count": 39,
      "outputs": []
    },
    {
      "cell_type": "code",
      "source": [
        "# 2. Sort by Age (youngest to oldest)\n",
        "sorted_df = diploma_df.sort_values(by='Age')\n"
      ],
      "metadata": {
        "id": "FXBvg0fRY8rY"
      },
      "execution_count": 40,
      "outputs": []
    },
    {
      "cell_type": "code",
      "source": [
        "# 3. Calculate average income increment (assuming numerical income values)\n",
        "income_change = sorted_df['Income'].diff()\n",
        "\n"
      ],
      "metadata": {
        "id": "VQrfazxtY_MH"
      },
      "execution_count": 45,
      "outputs": []
    },
    {
      "cell_type": "code",
      "source": [
        "# Calculate the average income increment\n",
        "average_increment = income_change.mean(skipna=True)  # Skip the first missing value"
      ],
      "metadata": {
        "id": "aCz9_9i7ZYZ_"
      },
      "execution_count": 46,
      "outputs": []
    },
    {
      "cell_type": "code",
      "source": [
        "print(average_increment)"
      ],
      "metadata": {
        "id": "X7Wxpxq7ZlH-",
        "outputId": "a31ed4ba-2cff-4f43-e923-aa99e7851341",
        "colab": {
          "base_uri": "https://localhost:8080/"
        }
      },
      "execution_count": 47,
      "outputs": [
        {
          "output_type": "stream",
          "name": "stdout",
          "text": [
            "3000.0\n"
          ]
        }
      ]
    },
    {
      "cell_type": "code",
      "source": [
        "# 4.Predict income for a 40-year-old diploma holder\n",
        "# Assuming a starting income equal to the first diploma holder's income\n",
        "starting_income = sorted_df['Income'].iloc[0]\n",
        "predicted_income_at_40 = starting_income + average_increment * (40 - sorted_df['Age'].iloc[0])"
      ],
      "metadata": {
        "id": "SMzOHLDkZub9"
      },
      "execution_count": 48,
      "outputs": []
    },
    {
      "cell_type": "code",
      "source": [
        "print(\"Average income increment for diploma holders:\", average_increment)"
      ],
      "metadata": {
        "id": "Jfa6_y51Z3xd",
        "outputId": "6803f024-5a97-439f-db65-efdb8568c4c4",
        "colab": {
          "base_uri": "https://localhost:8080/"
        }
      },
      "execution_count": 50,
      "outputs": [
        {
          "output_type": "stream",
          "name": "stdout",
          "text": [
            "Average income increment for diploma holders: 3000.0\n"
          ]
        }
      ]
    },
    {
      "cell_type": "code",
      "source": [
        "print(\"Predicted income for a 40-year-old diploma holder:\", predicted_income_at_40)"
      ],
      "metadata": {
        "id": "OxiNQd2CaHkc",
        "outputId": "65fc6847-1393-4f12-f6ca-d008420cb91c",
        "colab": {
          "base_uri": "https://localhost:8080/"
        }
      },
      "execution_count": 51,
      "outputs": [
        {
          "output_type": "stream",
          "name": "stdout",
          "text": [
            "Predicted income for a 40-year-old diploma holder: 75000.0\n"
          ]
        }
      ]
    },
    {
      "cell_type": "markdown",
      "source": [
        "5. What kind of phone do you think someone who earns RM 5,000 & above per month will possess? Kindly advise on your assumptions, and the calculations you considered."
      ],
      "metadata": {
        "id": "1qBPDQEK2ISZ"
      }
    },
    {
      "cell_type": "code",
      "source": [
        "high_income_df = df[df['Income'] >= 60000]  # RM5000 x 12 month\n"
      ],
      "metadata": {
        "id": "sC-OfT292NXA"
      },
      "execution_count": 53,
      "outputs": []
    },
    {
      "cell_type": "code",
      "source": [
        "print(high_income_df)"
      ],
      "metadata": {
        "id": "4nWzPN3s2fRB",
        "outputId": "8124fa54-936a-4561-cc89-afa9212d2240",
        "colab": {
          "base_uri": "https://localhost:8080/"
        }
      },
      "execution_count": 54,
      "outputs": [
        {
          "output_type": "stream",
          "name": "stdout",
          "text": [
            "       Name  Age Gender Annual Income Education Phone Owned Phone Price Email  \\\n",
            "6    Pierre   54      M   $120,000.00    Degree   Nokia E63         NaN     x   \n",
            "7   Valerie   32      F    $80,000.00   Masters  iPhone 3Gs        2490     x   \n",
            "16     Wong   51      M   $110,000.00    Degree  iPhone 6s+        3699     x   \n",
            "17     Jill   29      F    $75,000.00   Masters   iPhone 6s        3199     x   \n",
            "\n",
            "    Web Mobile Walk-In Video Call Phone Call Letter    Income  \n",
            "6   NaN    NaN     NaN        NaN          x      x  120000.0  \n",
            "7     x      x     NaN          x        NaN    NaN   80000.0  \n",
            "16  NaN    NaN     NaN          x          x      x  110000.0  \n",
            "17    x    NaN     NaN          x        NaN    NaN   75000.0  \n"
          ]
        }
      ]
    },
    {
      "cell_type": "code",
      "source": [
        "brand_counts = high_income_df['Phone Owned'].value_counts()\n"
      ],
      "metadata": {
        "id": "tTQyXC752t84"
      },
      "execution_count": 55,
      "outputs": []
    },
    {
      "cell_type": "code",
      "source": [
        "print(brand_counts)"
      ],
      "metadata": {
        "id": "kq192rRV2wd4",
        "outputId": "57f26b60-92cd-49c0-f897-315a9cdfcd4c",
        "colab": {
          "base_uri": "https://localhost:8080/"
        }
      },
      "execution_count": 56,
      "outputs": [
        {
          "output_type": "stream",
          "name": "stdout",
          "text": [
            "Phone Owned\n",
            "Nokia E63     1\n",
            "iPhone 3Gs    1\n",
            "iPhone 6s+    1\n",
            "iPhone 6s     1\n",
            "Name: count, dtype: int64\n"
          ]
        }
      ]
    },
    {
      "cell_type": "markdown",
      "source": [
        "The results shows that the number of Iphone users is significantly higher than nokia user hence someone who earns RM 5,000 & above per month will more likely to possess Iphone. However, dataset is quite limited, and phone ownership can be influenced by factors beyond income."
      ],
      "metadata": {
        "id": "IuUWc-IA26_2"
      }
    },
    {
      "cell_type": "markdown",
      "source": [
        "6. What is the most preferred way of requesting an interview for someone who spends more than RM 2,000 for their phone?"
      ],
      "metadata": {
        "id": "5KDhcp7P3slV"
      }
    },
    {
      "cell_type": "code",
      "source": [
        "# Convert 'Phone Price' to numeric (assuming numerical values after removing symbols)\n",
        "df['Phone Price'] = df['Phone Price'].str.replace(',', '', regex=True).astype(int)\n",
        "\n"
      ],
      "metadata": {
        "id": "KUSP9ioE3uXU"
      },
      "execution_count": 63,
      "outputs": []
    },
    {
      "cell_type": "code",
      "source": [
        "# Filter for people who spent more than 2000 on a phone\n",
        "filtered_df = df[df['Phone Price'] > 2000]\n",
        "\n"
      ],
      "metadata": {
        "id": "DqbtwxFGbnv6"
      },
      "execution_count": 64,
      "outputs": []
    },
    {
      "cell_type": "code",
      "source": [
        "# Print the filtered DataFrame\n",
        "print(filtered_df)"
      ],
      "metadata": {
        "id": "lbvU8Dy4bowi",
        "outputId": "f701c84f-7921-46d6-98ad-299324b0746e",
        "colab": {
          "base_uri": "https://localhost:8080/"
        }
      },
      "execution_count": 65,
      "outputs": [
        {
          "output_type": "stream",
          "name": "stdout",
          "text": [
            "        Name  Age Gender Annual Income   Education        Phone Owned  \\\n",
            "0        Ali   22      M    $15,000.00  Highschool  Samsung Galaxy S3   \n",
            "1       Mutu   25      M    $30,000.00     Diploma       HTC One Note   \n",
            "2        Lim   33      M    $36,000.00     Diploma           iPhone 5   \n",
            "3      Angie   47      F    $45,000.00     Diploma          iPhone 6s   \n",
            "7    Valerie   32      F    $80,000.00     Masters         iPhone 3Gs   \n",
            "10    Regina   22      F    $15,000.00  Highschool          iPhone 6+   \n",
            "14  Abdullah   26      M    $25,000.00      Degree          iPhone 5s   \n",
            "16      Wong   51      M   $110,000.00      Degree         iPhone 6s+   \n",
            "17      Jill   29      F    $75,000.00     Masters          iPhone 6s   \n",
            "\n",
            "    Phone Price Email  Web Mobile Walk-In Video Call Phone Call Letter  \n",
            "0          2199     x    x      x       x        NaN        NaN    NaN  \n",
            "1          2299     x    x      x     NaN        NaN        NaN    NaN  \n",
            "2          2199     x    x      x     NaN          x        NaN    NaN  \n",
            "3          3199     x  NaN    NaN       x          x          x      x  \n",
            "7          2490     x    x      x     NaN          x        NaN    NaN  \n",
            "10         2749     x    x      x     NaN          x        NaN    NaN  \n",
            "14         2349     x    x      x     NaN          x        NaN    NaN  \n",
            "16         3699     x  NaN    NaN     NaN          x          x      x  \n",
            "17         3199     x    x    NaN     NaN          x        NaN    NaN  \n"
          ]
        }
      ]
    },
    {
      "cell_type": "markdown",
      "source": [
        "From the filtered df we can conclude that Email is the most preferred way"
      ],
      "metadata": {
        "id": "xus3r4q8cfoP"
      }
    },
    {
      "cell_type": "code",
      "source": [],
      "metadata": {
        "id": "ZYk0b713cri9"
      },
      "execution_count": null,
      "outputs": []
    },
    {
      "cell_type": "markdown",
      "source": [
        "7. If we wanted to introduce the concept of employability (likelihood of someone being hired) in the mix, what kind of additional data would you factor into your calculations?\n",
        "\n",
        "\n",
        "- I would suggest volunteer work because in my opinion volunteer experiences showcase an individual's passion for a cause or field, potentially indicating a strong work ethic and genuine interest beyond just a paycheck. This information, combined with traditional factors like skills and education, can paint a more holistic picture of a candidate's potential fit and dedication."
      ],
      "metadata": {
        "id": "F07Bgl4Vcs83"
      }
    },
    {
      "cell_type": "markdown",
      "source": [
        " 8. What is your experience in running an experiment? Can you describe what you were trying to achieve from your experiment, and how one can usefully apply the data you obtained. from your project for future experiments?\n",
        "\n",
        " - I have ran plenty of experiment since school up until my degree but I have one experiment purely only for personal gain. That experiment is how to get a perfect fried chicken. It sounds really basic but when i learn how to cook I really struggle because all the tutorial does not really go into details and I really struggle with the term estimate. The conclusion that I get is:\n",
        "\n",
        " - Chicken around 2kg  cut into 8 piece\n",
        " - Make a incision across the meat on both side\n",
        " - Marinate in 'tepung bestari' for minimum 8 hour\n",
        " - Heat the oil on high heat\n",
        " - Put bone side first because if done inversely the myoglobin liquid will get trapped resulting the middle part of the chicken's texture not uniform\n",
        " - Let for 60 seconds\n",
        " - Switch for middle heat and let sit for 7 minutes\n",
        " - Flip and let sit for 5 minutes\n",
        " - Switch to high heat and let sit for another 60 seconds and the chicken is ready\n",
        " - Perfect chicken with crunchy batter and juicy inside\n",
        "\n",
        " - For future experiment, since the data is established for chicken around 2kg cut into 8 piece, the variable can be adjusted to fit smaller or bigger size chicken with other various number of chicken piece\n",
        "\n"
      ],
      "metadata": {
        "id": "zuqzXwMbnUQm"
      }
    },
    {
      "cell_type": "markdown",
      "source": [
        "9. What is your favourite website or app? If someone asked you to describe how much better your preferred website or app is against the others, how would you go about doing this?\n",
        "\n",
        "- My favorite app is Alpha Progression. The app is basically a gym logger. This app stand out compared to other similar app because aside from gym logger it also provide built in video tutorial for the choosen exercise. This feature really helps beginner to learn how to exercise. Another unique feature is the app allow us to export the log into excel. I really like this particular feature because that allows me to show my progress in more professional method\n"
      ],
      "metadata": {
        "id": "ygPvKAxnnW_H"
      }
    },
    {
      "cell_type": "markdown",
      "source": [
        "10. If you are required to build a decision tree data mining algorithm to predict a winning candidate based on a given job, kindly describe how you your approach would be like."
      ],
      "metadata": {
        "id": "hZL60REjnZMu"
      }
    }
  ]
}